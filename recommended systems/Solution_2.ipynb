{
 "cells": [
  {
   "cell_type": "code",
   "execution_count": 10,
   "metadata": {},
   "outputs": [],
   "source": [
    "import pickle\n",
    "import numpy as np\n",
    "from sklearn.metrics.pairwise import cosine_similarity\n",
    "from scipy import sparse \n",
    "from math import isnan"
   ]
  },
  {
   "cell_type": "code",
   "execution_count": 2,
   "metadata": {},
   "outputs": [],
   "source": [
    "ratings = pickle.load(open('items_10000_matrix.pickle', 'rb'), encoding='iso-8859-1')"
   ]
  },
  {
   "cell_type": "code",
   "execution_count": 3,
   "metadata": {},
   "outputs": [
    {
     "data": {
      "text/plain": [
       "scipy.sparse.csr.csr_matrix"
      ]
     },
     "execution_count": 3,
     "metadata": {},
     "output_type": "execute_result"
    }
   ],
   "source": [
    "type(ratings)"
   ]
  },
  {
   "cell_type": "code",
   "execution_count": 4,
   "metadata": {},
   "outputs": [],
   "source": [
    "ratings = ratings.toarray()"
   ]
  },
  {
   "cell_type": "code",
   "execution_count": 5,
   "metadata": {},
   "outputs": [
    {
     "data": {
      "text/plain": [
       "numpy.ndarray"
      ]
     },
     "execution_count": 5,
     "metadata": {},
     "output_type": "execute_result"
    }
   ],
   "source": [
    "type(ratings)"
   ]
  },
  {
   "cell_type": "code",
   "execution_count": 6,
   "metadata": {},
   "outputs": [
    {
     "data": {
      "text/plain": [
       "(71869, 10000)"
      ]
     },
     "execution_count": 6,
     "metadata": {},
     "output_type": "execute_result"
    }
   ],
   "source": [
    "ratings.shape"
   ]
  },
  {
   "cell_type": "markdown",
   "metadata": {},
   "source": [
    "*ratings* -  np.array состоящий из нулей и единиц, где каждая строка соответсвует пользователю, а каждая колонка - книге.  \n",
    "1 - на пересечении строки i колонки j значит, что пользователь i прочитал книгу j. 0 - пользователь i не читал книгу j."
   ]
  },
  {
   "cell_type": "markdown",
   "metadata": {},
   "source": [
    "# Part 1"
   ]
  },
  {
   "cell_type": "markdown",
   "metadata": {},
   "source": [
    "### Task 1. Найти самую популярную книгу."
   ]
  },
  {
   "cell_type": "code",
   "execution_count": 11,
   "metadata": {},
   "outputs": [
    {
     "name": "stdout",
     "output_type": "stream",
     "text": [
      "most popular book = 20\n"
     ]
    }
   ],
   "source": [
    "# Здесь и далее будем считать, что первый пользователь и первая книга - это пользователь_0 и книга_0\n",
    "most_popular_book = ratings.sum(axis=0).argmax()\n",
    "print('most popular book = {}'.format(most_popular_book))"
   ]
  },
  {
   "cell_type": "markdown",
   "metadata": {},
   "source": [
    "### Task 2. Найти пользователя со второй по величине библиотекой."
   ]
  },
  {
   "cell_type": "code",
   "execution_count": 201,
   "metadata": {},
   "outputs": [
    {
     "name": "stdout",
     "output_type": "stream",
     "text": [
      "user_id with the second biggest library = 69648\n"
     ]
    }
   ],
   "source": [
    "second_biggest_library = ratings.sum(axis=1).argsort()[::-1][1]\n",
    "print('user_id with the second biggest library = {}'.format(second_biggest_library))"
   ]
  },
  {
   "cell_type": "markdown",
   "metadata": {},
   "source": [
    "### Task 3. Найти среднее и медиану размера библиотеки."
   ]
  },
  {
   "cell_type": "code",
   "execution_count": 66,
   "metadata": {},
   "outputs": [
    {
     "name": "stdout",
     "output_type": "stream",
     "text": [
      "mean = 2.266693567463023\n",
      "median = 2.0\n"
     ]
    }
   ],
   "source": [
    "users_bibl = ratings.sum(axis=1) # \n",
    "\n",
    "mean = users_bibl.mean()\n",
    "print('mean = {}'.format(mean))\n",
    "\n",
    "median = np.median(users_bibl)\n",
    "print('median = {}'.format(median))"
   ]
  },
  {
   "cell_type": "markdown",
   "metadata": {},
   "source": [
    "### Task 4. Найти медиану размера библиоткеи у пользователей, которые прочитали книгу номер с id 100."
   ]
  },
  {
   "cell_type": "code",
   "execution_count": 73,
   "metadata": {},
   "outputs": [
    {
     "name": "stdout",
     "output_type": "stream",
     "text": [
      "Median number of books of users who read the book with id 100 = 3.0\n"
     ]
    }
   ],
   "source": [
    "users_book_id_100 = ratings[ratings[:, 100].nonzero()] # Находим матрицу пользователей, которые читали книгу_100\n",
    "users_bibl = users_book_id_100.sum(axis=1) # Считаем сколько книг прочитал каждый из этих пользователей\n",
    "\n",
    "median_number = np.median(users_bibl)\n",
    "print('Median number of books of users who read the book with id 100 = {}'.format(median_number))"
   ]
  },
  {
   "cell_type": "markdown",
   "metadata": {},
   "source": [
    "# Part 2"
   ]
  },
  {
   "cell_type": "markdown",
   "metadata": {},
   "source": [
    "### Task 1. Похожие книги.\n",
    "1. Найди 20 наиболее похожих книг для книги с id = 100. В качестве меры похожести используй cosine similarity. Используй наиболее быстрый вариант подсчета.\n",
    "  \n",
    "$$cosine\\ similarity = \\frac{A\\cdot B}{||A||\\ ||B||} = \\frac{\\sum_{i=1}^{n} A_iB_i}{\\sqrt{\\sum_{i=1}^{n}A_i^2}\\sqrt{\\sum_{i=1}^{n}B_i^2}}$$  \n",
    "  \n",
    "В качестве ответа верни список кортежей, где каждый кортеж представляет собой пару (book_id, similarity)."
   ]
  },
  {
   "cell_type": "code",
   "execution_count": 166,
   "metadata": {},
   "outputs": [
    {
     "name": "stdout",
     "output_type": "stream",
     "text": [
      "Книга = 5863; \t cosine similarity = 2.672612e-01\n",
      "Книга = 5819; \t cosine similarity = 2.672612e-01\n",
      "Книга = 5134; \t cosine similarity = 1.889822e-01\n",
      "Книга = 2370; \t cosine similarity = 1.336306e-01\n",
      "Книга = 3940; \t cosine similarity = 1.336306e-01\n",
      "Книга = 5440; \t cosine similarity = 1.336306e-01\n",
      "Книга = 3468; \t cosine similarity = 1.091089e-01\n",
      "Книга = 5546; \t cosine similarity = 8.451543e-02\n",
      "Книга = 1495; \t cosine similarity = 6.482037e-02\n",
      "Книга = 214; \t cosine similarity = 6.482037e-02\n",
      "Книга = 6; \t cosine similarity = 4.879500e-02\n",
      "Книга = 528; \t cosine similarity = 4.454354e-02\n",
      "Книга = 251; \t cosine similarity = 3.479445e-02\n",
      "Книга = 836; \t cosine similarity = 3.194383e-02\n",
      "Книга = 426; \t cosine similarity = 3.065697e-02\n",
      "Книга = 312; \t cosine similarity = 3.026138e-02\n",
      "Книга = 446; \t cosine similarity = 2.514182e-02\n",
      "Книга = 73; \t cosine similarity = 2.126216e-02\n",
      "Книга = 191; \t cosine similarity = 1.667130e-02\n",
      "Книга = 76; \t cosine similarity = 1.566713e-02\n"
     ]
    }
   ],
   "source": [
    "\n",
    "ratingsT = ratings.transpose() # Транспонируем исходную матрицу для удобства\n",
    "\n",
    "sparse_B = sparse.csr_matrix(ratingsT) # Разреженная исходная матрица\n",
    "sparse_A = sparse.csr_matrix(ratings[:, 100]) # Разряженный вектор книги с id=100\n",
    "\n",
    "cosine_similarity_vector = cosine_similarity(sparse_A, sparse_B).reshape(-1) # Вектор похожести книги id=100 с остальными\n",
    "first_20 = cosine_similarity_vector.argsort()[::-1][1:21] # id первых 20 похожих книг (книга с id=100 туда конечно не входит)\n",
    "\n",
    "tpl_books = zip(first_20, cosine_similarity_vector[first_20]) # Нужный нам кортеж\n",
    "\n",
    "for i, j in tpl_books:\n",
    "    print('Книга = {:d}; \\t cosine similarity = {:e}'.format(i, j))"
   ]
  },
  {
   "cell_type": "markdown",
   "metadata": {
    "collapsed": true
   },
   "source": [
    "# Part 3"
   ]
  },
  {
   "cell_type": "markdown",
   "metadata": {},
   "source": [
    "### Task 1. Матрица похожих книг (топ-20)."
   ]
  },
  {
   "cell_type": "markdown",
   "metadata": {},
   "source": [
    "Создать матрицу похожих книг (матрица 10000 x 10000) использую метрику *cosine similarity*. В каждоый строке оставить только топ 20 самых похожих. Лучше написать функцию которая на вход получает матрицу рейтингов на выходе матрица похожих книг. Эту фунцкцию можно будет использовать в следующем задании."
   ]
  },
  {
   "cell_type": "code",
   "execution_count": 195,
   "metadata": {},
   "outputs": [
    {
     "name": "stdout",
     "output_type": "stream",
     "text": [
      "Наша матрица:  [[0.         0.         0.10837083 ... 0.         0.         0.        ]\n",
      " [0.         0.         0.         ... 0.         0.         0.        ]\n",
      " [0.10837083 0.         0.         ... 0.         0.         0.        ]\n",
      " ...\n",
      " [0.         0.         0.         ... 0.         0.         0.        ]\n",
      " [0.         0.         0.         ... 0.         0.         0.        ]\n",
      " [0.         0.         0.         ... 0.         0.         0.        ]]\n",
      "Ее размер:  (10000, 10000)\n"
     ]
    }
   ],
   "source": [
    "# Увы ничего быстрее придумать не удалось\n",
    "# Как мне кажется, тут нужно применять разреженные матрицы либо np.where()\n",
    "def compute_sim_matrix(ratings):\n",
    "    ratingsT = ratings.transpose() # Транспонируем исходную матрицу\n",
    "    sparse_matrix = sparse.csr_matrix(ratingsT) # Разреженная исходная матрица\n",
    "    similar_books_matrix = cosine_similarity(sparse_matrix) # Матрица похожих книг\n",
    "\n",
    "    for row in similar_books_matrix: # Идем по строчкам\n",
    "        first_20 = row.argsort()[::-1][1:21] # Находим индексы 20 самых похожих книг\n",
    "        for cell_index in range(0, 10000):\n",
    "            if cell_index not in first_20:\n",
    "                row[cell_index] = 0 # Зануляем все непохожие\n",
    "    return similar_books_matrix\n",
    "\n",
    "matrix = compute_sim_matrix(ratings)\n",
    "\n",
    "print('Наша матрица: ', matrix)\n",
    "print('Ее размер: ', matrix.shape)"
   ]
  },
  {
   "cell_type": "markdown",
   "metadata": {},
   "source": [
    "### Task 2. Оценить рекомендательную систему."
   ]
  },
  {
   "cell_type": "markdown",
   "metadata": {},
   "source": [
    "Оценить качество рекомендательной системы, основанной на матрице похожих книг, использую метрики **precision** и **recall**. Рекомендации должны получаться путем умножения матрицы похожих книг на вектор пользователя.\n",
    "  \n",
    "**precison** - кол-во книг которые попали пользователю в рекомендации и он их действительно добавил делить на кол-во рекомендованных книг.\n",
    "  \n",
    "**recall** - кол-во книг которые попали пользователю в рекомендации и он их действительно добавил делить на кол-во книг добавленных пользователем. \n",
    "  \n",
    "Метрики считать на 20 самых лучших рекомендациях для каждого пользователя."
   ]
  },
  {
   "cell_type": "code",
   "execution_count": null,
   "metadata": {},
   "outputs": [],
   "source": [
    "def compute_sim_matrix(ratings):\n",
    "    ratingsT = ratings.transpose() # Транспонируем исходную матрицу\n",
    "    sparse_matrix = sparse.csr_matrix(ratingsT) # Разреженная исходная матрица\n",
    "    similar_books_matrix = cosine_similarity(sparse_matrix) # Матрица похожих книг\n",
    "\n",
    "    for row in similar_books_matrix: # Идем по строчкам\n",
    "        first_20 = row.argsort()[::-1][1:21] # Находим индексы 20 самых похожих книг\n",
    "        for cell_index in range(0, 10000):\n",
    "            if cell_index not in first_20:\n",
    "                row[cell_index] = 0 # Зануляем все непохожие\n",
    "    return similar_books_matrix\n",
    "\n",
    "cosine_similarity_matrix = compute_sim_matrix(ratings) # Матрица похожих книг\n",
    "\n",
    "precision_list = [] # Список из precision для пользователей\n",
    "recall_list = [] # Список из recall для пользователей\n",
    "\n",
    "for id_user in range(0, 71869):\n",
    "    vector_similarity = np.dot(cosine_similarity_matrix, ratings[id_user]) # Вектор коэфициентов рекомендаций для пользователя\n",
    "    vector_similarity_books = vector_similarity.argsort()[::-1][0:20] # Вектор рекомендованных книг для пользователя (топ-20)\n",
    "\n",
    "    # кол-во книг которые попали пользователю в рекомендации и он их действительно добавил \n",
    "    # делить на кол-во рекомендованных книг (по условию задания: 20)\n",
    "    precision_user = ratings[id_user, vector_similarity_books].sum() / 20\n",
    "    precision_list.append(precision_user)\n",
    "    \n",
    "    # кол-во книг которые попали пользователю в рекомендации и он их действительно добавил\n",
    "    # делить на кол-во книг добавленных пользователем.\n",
    "    user_book_count = ratings[id_user].sum()\n",
    "    if not isnan(user_book_count): # На всякий случай проверяем то, что у пользователя нет книг\n",
    "        recall_user = ratings[id_user, vector_similarity_books].sum() / user_book_count\n",
    "        recall_list.append(recall_user)\n",
    "    \n",
    "print('Среднее precision по всем пользователям', sum(precision_list) / 71869)\n",
    "print('Среднее recall по всем пользователям', sum(recall_list) / 71869)"
   ]
  }
 ],
 "metadata": {
  "kernelspec": {
   "display_name": "Python 3",
   "language": "python",
   "name": "python3"
  },
  "language_info": {
   "codemirror_mode": {
    "name": "ipython",
    "version": 3
   },
   "file_extension": ".py",
   "mimetype": "text/x-python",
   "name": "python",
   "nbconvert_exporter": "python",
   "pygments_lexer": "ipython3",
   "version": "3.7.1"
  }
 },
 "nbformat": 4,
 "nbformat_minor": 1
}
